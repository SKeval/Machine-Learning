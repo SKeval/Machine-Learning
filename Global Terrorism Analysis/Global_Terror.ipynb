{
 "cells": [
  {
   "cell_type": "code",
   "execution_count": 55,
   "metadata": {},
   "outputs": [],
   "source": [
    "import numpy as np\n",
    "import pandas as pd"
   ]
  },
  {
   "cell_type": "code",
   "execution_count": 56,
   "metadata": {},
   "outputs": [],
   "source": [
    "df = pd.read_csv('GlobalTerrorism.csv')"
   ]
  },
  {
   "cell_type": "code",
   "execution_count": 57,
   "metadata": {},
   "outputs": [
    {
     "data": {
      "text/plain": [
       "(6999, 13)"
      ]
     },
     "execution_count": 57,
     "metadata": {},
     "output_type": "execute_result"
    }
   ],
   "source": [
    "df.shape"
   ]
  },
  {
   "cell_type": "code",
   "execution_count": 58,
   "metadata": {},
   "outputs": [
    {
     "data": {
      "text/plain": [
       "Event Id         0\n",
       "Year             0\n",
       "Month            0\n",
       "Country          0\n",
       "Region           0\n",
       "State          519\n",
       "City             0\n",
       "Attack Type      0\n",
       "Target           0\n",
       "Nation          19\n",
       "Gang Name        0\n",
       "Weapon           0\n",
       "Weapon Type      0\n",
       "dtype: int64"
      ]
     },
     "execution_count": 58,
     "metadata": {},
     "output_type": "execute_result"
    }
   ],
   "source": [
    "df.isnull().sum()"
   ]
  },
  {
   "cell_type": "code",
   "execution_count": 59,
   "metadata": {},
   "outputs": [],
   "source": [
    "df = df.drop(columns='Event Id')"
   ]
  },
  {
   "cell_type": "code",
   "execution_count": 60,
   "metadata": {},
   "outputs": [
    {
     "data": {
      "text/html": [
       "<div>\n",
       "<style scoped>\n",
       "    .dataframe tbody tr th:only-of-type {\n",
       "        vertical-align: middle;\n",
       "    }\n",
       "\n",
       "    .dataframe tbody tr th {\n",
       "        vertical-align: top;\n",
       "    }\n",
       "\n",
       "    .dataframe thead th {\n",
       "        text-align: right;\n",
       "    }\n",
       "</style>\n",
       "<table border=\"1\" class=\"dataframe\">\n",
       "  <thead>\n",
       "    <tr style=\"text-align: right;\">\n",
       "      <th></th>\n",
       "      <th>Year</th>\n",
       "      <th>Month</th>\n",
       "      <th>Country</th>\n",
       "      <th>Region</th>\n",
       "      <th>State</th>\n",
       "      <th>City</th>\n",
       "      <th>Attack Type</th>\n",
       "      <th>Target</th>\n",
       "      <th>Nation</th>\n",
       "      <th>Gang Name</th>\n",
       "      <th>Weapon</th>\n",
       "      <th>Weapon Type</th>\n",
       "    </tr>\n",
       "  </thead>\n",
       "  <tbody>\n",
       "    <tr>\n",
       "      <th>3902</th>\n",
       "      <td>1976</td>\n",
       "      <td>7</td>\n",
       "      <td>Jamaica</td>\n",
       "      <td>Central America &amp; Caribbean</td>\n",
       "      <td>NaN</td>\n",
       "      <td>Kingston</td>\n",
       "      <td>Bombing/Explosion</td>\n",
       "      <td>Airports &amp; Aircraft</td>\n",
       "      <td>Cuba</td>\n",
       "      <td>National Front for the Liberation of Cuba (FLNC)</td>\n",
       "      <td>6</td>\n",
       "      <td>Explosives/Bombs/Dynamite</td>\n",
       "    </tr>\n",
       "    <tr>\n",
       "      <th>3555</th>\n",
       "      <td>1976</td>\n",
       "      <td>3</td>\n",
       "      <td>Spain</td>\n",
       "      <td>Western Europe</td>\n",
       "      <td>Gipuzcoa</td>\n",
       "      <td>Donostia-San Sebastian</td>\n",
       "      <td>Armed Assault</td>\n",
       "      <td>Transportation</td>\n",
       "      <td>Spain</td>\n",
       "      <td>Basque Fatherland and Freedom (ETA)</td>\n",
       "      <td>5</td>\n",
       "      <td>Firearms</td>\n",
       "    </tr>\n",
       "    <tr>\n",
       "      <th>6193</th>\n",
       "      <td>1978</td>\n",
       "      <td>4</td>\n",
       "      <td>Italy</td>\n",
       "      <td>Western Europe</td>\n",
       "      <td>Lazio</td>\n",
       "      <td>Rome</td>\n",
       "      <td>Facility/Infrastructure Attack</td>\n",
       "      <td>Business</td>\n",
       "      <td>Italy</td>\n",
       "      <td>Unknown</td>\n",
       "      <td>8</td>\n",
       "      <td>Incendiary</td>\n",
       "    </tr>\n",
       "    <tr>\n",
       "      <th>6995</th>\n",
       "      <td>1978</td>\n",
       "      <td>12</td>\n",
       "      <td>Namibia</td>\n",
       "      <td>Sub-Saharan Africa</td>\n",
       "      <td>Khomas</td>\n",
       "      <td>Windhoek</td>\n",
       "      <td>Bombing/Explosion</td>\n",
       "      <td>Private Citizens &amp; Property</td>\n",
       "      <td>Namibia</td>\n",
       "      <td>Unknown</td>\n",
       "      <td>6</td>\n",
       "      <td>Explosives/Bombs/Dynamite</td>\n",
       "    </tr>\n",
       "    <tr>\n",
       "      <th>2643</th>\n",
       "      <td>1974</td>\n",
       "      <td>12</td>\n",
       "      <td>United Kingdom</td>\n",
       "      <td>Western Europe</td>\n",
       "      <td>England</td>\n",
       "      <td>London</td>\n",
       "      <td>Bombing/Explosion</td>\n",
       "      <td>Telecommunication</td>\n",
       "      <td>Great Britain</td>\n",
       "      <td>Irish Republican Army (IRA)</td>\n",
       "      <td>6</td>\n",
       "      <td>Explosives/Bombs/Dynamite</td>\n",
       "    </tr>\n",
       "  </tbody>\n",
       "</table>\n",
       "</div>"
      ],
      "text/plain": [
       "      Year  Month         Country                       Region     State  \\\n",
       "3902  1976      7         Jamaica  Central America & Caribbean       NaN   \n",
       "3555  1976      3           Spain               Western Europe  Gipuzcoa   \n",
       "6193  1978      4           Italy               Western Europe     Lazio   \n",
       "6995  1978     12         Namibia           Sub-Saharan Africa    Khomas   \n",
       "2643  1974     12  United Kingdom               Western Europe   England   \n",
       "\n",
       "                        City                     Attack Type  \\\n",
       "3902                Kingston               Bombing/Explosion   \n",
       "3555  Donostia-San Sebastian                   Armed Assault   \n",
       "6193                    Rome  Facility/Infrastructure Attack   \n",
       "6995                Windhoek               Bombing/Explosion   \n",
       "2643                  London               Bombing/Explosion   \n",
       "\n",
       "                           Target         Nation  \\\n",
       "3902          Airports & Aircraft           Cuba   \n",
       "3555               Transportation          Spain   \n",
       "6193                     Business          Italy   \n",
       "6995  Private Citizens & Property        Namibia   \n",
       "2643            Telecommunication  Great Britain   \n",
       "\n",
       "                                             Gang Name  Weapon  \\\n",
       "3902  National Front for the Liberation of Cuba (FLNC)       6   \n",
       "3555               Basque Fatherland and Freedom (ETA)       5   \n",
       "6193                                           Unknown       8   \n",
       "6995                                           Unknown       6   \n",
       "2643                       Irish Republican Army (IRA)       6   \n",
       "\n",
       "                    Weapon Type  \n",
       "3902  Explosives/Bombs/Dynamite  \n",
       "3555                   Firearms  \n",
       "6193                 Incendiary  \n",
       "6995  Explosives/Bombs/Dynamite  \n",
       "2643  Explosives/Bombs/Dynamite  "
      ]
     },
     "execution_count": 60,
     "metadata": {},
     "output_type": "execute_result"
    }
   ],
   "source": [
    "df.sample(5)"
   ]
  },
  {
   "cell_type": "code",
   "execution_count": 61,
   "metadata": {},
   "outputs": [
    {
     "name": "stdout",
     "output_type": "stream",
     "text": [
      "<class 'pandas.core.frame.DataFrame'>\n",
      "RangeIndex: 6999 entries, 0 to 6998\n",
      "Data columns (total 12 columns):\n",
      " #   Column       Non-Null Count  Dtype \n",
      "---  ------       --------------  ----- \n",
      " 0   Year         6999 non-null   int64 \n",
      " 1   Month        6999 non-null   int64 \n",
      " 2   Country      6999 non-null   object\n",
      " 3   Region       6999 non-null   object\n",
      " 4   State        6480 non-null   object\n",
      " 5   City         6999 non-null   object\n",
      " 6   Attack Type  6999 non-null   object\n",
      " 7   Target       6999 non-null   object\n",
      " 8   Nation       6980 non-null   object\n",
      " 9   Gang Name    6999 non-null   object\n",
      " 10  Weapon       6999 non-null   int64 \n",
      " 11  Weapon Type  6999 non-null   object\n",
      "dtypes: int64(3), object(9)\n",
      "memory usage: 656.3+ KB\n"
     ]
    }
   ],
   "source": [
    "df.info()"
   ]
  },
  {
   "cell_type": "code",
   "execution_count": 62,
   "metadata": {},
   "outputs": [
    {
     "data": {
      "text/plain": [
       "np.int64(892)"
      ]
     },
     "execution_count": 62,
     "metadata": {},
     "output_type": "execute_result"
    }
   ],
   "source": [
    "df.duplicated().sum()"
   ]
  },
  {
   "cell_type": "code",
   "execution_count": 63,
   "metadata": {},
   "outputs": [],
   "source": [
    "df = df.drop_duplicates()"
   ]
  },
  {
   "cell_type": "code",
   "execution_count": 64,
   "metadata": {},
   "outputs": [
    {
     "data": {
      "text/plain": [
       "(6107, 12)"
      ]
     },
     "execution_count": 64,
     "metadata": {},
     "output_type": "execute_result"
    }
   ],
   "source": [
    "df.shape"
   ]
  },
  {
   "cell_type": "code",
   "execution_count": 65,
   "metadata": {},
   "outputs": [],
   "source": [
    "grouped = df.groupby('Region')"
   ]
  },
  {
   "cell_type": "code",
   "execution_count": 66,
   "metadata": {},
   "outputs": [
    {
     "data": {
      "text/plain": [
       "<Axes: xlabel='Country', ylabel='count'>"
      ]
     },
     "execution_count": 66,
     "metadata": {},
     "output_type": "execute_result"
    },
    {
     "data": {
      "image/png": "[encoded data removed]",
      "text/plain": [
       "<Figure size 640x480 with 1 Axes>"
      ]
     },
     "metadata": {},
     "output_type": "display_data"
    }
   ],
   "source": [
    "import seaborn as sns\n",
    "\n",
    "\n",
    "# df['survived'].value_counts().plot(kind='bar')\n",
    "sns.countplot(x='Country', data=df)"
   ]
  },
  {
   "cell_type": "code",
   "execution_count": 67,
   "metadata": {},
   "outputs": [
    {
     "data": {
      "text/html": [
       "<div>\n",
       "<style scoped>\n",
       "    .dataframe tbody tr th:only-of-type {\n",
       "        vertical-align: middle;\n",
       "    }\n",
       "\n",
       "    .dataframe tbody tr th {\n",
       "        vertical-align: top;\n",
       "    }\n",
       "\n",
       "    .dataframe thead th {\n",
       "        text-align: right;\n",
       "    }\n",
       "</style>\n",
       "<table border=\"1\" class=\"dataframe\">\n",
       "  <thead>\n",
       "    <tr style=\"text-align: right;\">\n",
       "      <th></th>\n",
       "      <th>Year</th>\n",
       "      <th>Month</th>\n",
       "      <th>Country</th>\n",
       "      <th>Region</th>\n",
       "      <th>State</th>\n",
       "      <th>City</th>\n",
       "      <th>Attack Type</th>\n",
       "      <th>Target</th>\n",
       "      <th>Nation</th>\n",
       "      <th>Gang Name</th>\n",
       "      <th>Weapon</th>\n",
       "      <th>Weapon Type</th>\n",
       "    </tr>\n",
       "  </thead>\n",
       "  <tbody>\n",
       "    <tr>\n",
       "      <th>1580</th>\n",
       "      <td>1972</td>\n",
       "      <td>12</td>\n",
       "      <td>Australia</td>\n",
       "      <td>Australasia &amp; Oceania</td>\n",
       "      <td>NaN</td>\n",
       "      <td>Brisbane</td>\n",
       "      <td>Bombing/Explosion</td>\n",
       "      <td>Business</td>\n",
       "      <td>United States</td>\n",
       "      <td>Unknown</td>\n",
       "      <td>6</td>\n",
       "      <td>Explosives/Bombs/Dynamite</td>\n",
       "    </tr>\n",
       "    <tr>\n",
       "      <th>6183</th>\n",
       "      <td>1978</td>\n",
       "      <td>4</td>\n",
       "      <td>Guatemala</td>\n",
       "      <td>Central America &amp; Caribbean</td>\n",
       "      <td>NaN</td>\n",
       "      <td>Guatemala City</td>\n",
       "      <td>Assassination</td>\n",
       "      <td>Police</td>\n",
       "      <td>Guatemala</td>\n",
       "      <td>Unknown</td>\n",
       "      <td>5</td>\n",
       "      <td>Firearms</td>\n",
       "    </tr>\n",
       "    <tr>\n",
       "      <th>2885</th>\n",
       "      <td>1975</td>\n",
       "      <td>4</td>\n",
       "      <td>Japan</td>\n",
       "      <td>East Asia</td>\n",
       "      <td>NaN</td>\n",
       "      <td>Tokyo</td>\n",
       "      <td>Bombing/Explosion</td>\n",
       "      <td>Private Citizens &amp; Property</td>\n",
       "      <td>South Korea</td>\n",
       "      <td>East Asia Anti Japanese Armed Front</td>\n",
       "      <td>6</td>\n",
       "      <td>Explosives/Bombs/Dynamite</td>\n",
       "    </tr>\n",
       "    <tr>\n",
       "      <th>453</th>\n",
       "      <td>1970</td>\n",
       "      <td>8</td>\n",
       "      <td>East Germany (GDR)</td>\n",
       "      <td>Eastern Europe</td>\n",
       "      <td>NaN</td>\n",
       "      <td>East Berlin</td>\n",
       "      <td>Bombing/Explosion</td>\n",
       "      <td>Government (General)</td>\n",
       "      <td>Germany</td>\n",
       "      <td>SFT</td>\n",
       "      <td>6</td>\n",
       "      <td>Explosives/Bombs/Dynamite</td>\n",
       "    </tr>\n",
       "    <tr>\n",
       "      <th>4748</th>\n",
       "      <td>1977</td>\n",
       "      <td>6</td>\n",
       "      <td>Lebanon</td>\n",
       "      <td>Middle East &amp; North Africa</td>\n",
       "      <td>Beirut</td>\n",
       "      <td>Beirut</td>\n",
       "      <td>Assassination</td>\n",
       "      <td>Government (Diplomatic)</td>\n",
       "      <td>Saudi Arabia</td>\n",
       "      <td>Popular Front for the Liberation of Palestine ...</td>\n",
       "      <td>6</td>\n",
       "      <td>Explosives/Bombs/Dynamite</td>\n",
       "    </tr>\n",
       "    <tr>\n",
       "      <th>898</th>\n",
       "      <td>1971</td>\n",
       "      <td>5</td>\n",
       "      <td>United States</td>\n",
       "      <td>North America</td>\n",
       "      <td>Illinois</td>\n",
       "      <td>Bedford Park</td>\n",
       "      <td>Bombing/Explosion</td>\n",
       "      <td>Police</td>\n",
       "      <td>United States</td>\n",
       "      <td>Black Nationalists</td>\n",
       "      <td>6</td>\n",
       "      <td>Explosives/Bombs/Dynamite</td>\n",
       "    </tr>\n",
       "    <tr>\n",
       "      <th>2998</th>\n",
       "      <td>1975</td>\n",
       "      <td>6</td>\n",
       "      <td>Peru</td>\n",
       "      <td>South America</td>\n",
       "      <td>Lima</td>\n",
       "      <td>Lima</td>\n",
       "      <td>Bombing/Explosion</td>\n",
       "      <td>Government (Diplomatic)</td>\n",
       "      <td>United States</td>\n",
       "      <td>Movement of the Revolutionary Left (MIR) (Peru)</td>\n",
       "      <td>6</td>\n",
       "      <td>Explosives/Bombs/Dynamite</td>\n",
       "    </tr>\n",
       "    <tr>\n",
       "      <th>4107</th>\n",
       "      <td>1976</td>\n",
       "      <td>9</td>\n",
       "      <td>Pakistan</td>\n",
       "      <td>South Asia</td>\n",
       "      <td>Sindh</td>\n",
       "      <td>Karachi</td>\n",
       "      <td>Facility/Infrastructure Attack</td>\n",
       "      <td>Airports &amp; Aircraft</td>\n",
       "      <td>Syria</td>\n",
       "      <td>Palestinians</td>\n",
       "      <td>8</td>\n",
       "      <td>Incendiary</td>\n",
       "    </tr>\n",
       "    <tr>\n",
       "      <th>5769</th>\n",
       "      <td>1978</td>\n",
       "      <td>1</td>\n",
       "      <td>Philippines</td>\n",
       "      <td>Southeast Asia</td>\n",
       "      <td>Maguindanao</td>\n",
       "      <td>Unknown</td>\n",
       "      <td>Hostage Taking (Kidnapping)</td>\n",
       "      <td>Business</td>\n",
       "      <td>South Korea</td>\n",
       "      <td>Moro National Liberation Front (MNLF)</td>\n",
       "      <td>13</td>\n",
       "      <td>Unknown</td>\n",
       "    </tr>\n",
       "    <tr>\n",
       "      <th>4388</th>\n",
       "      <td>1977</td>\n",
       "      <td>1</td>\n",
       "      <td>Angola</td>\n",
       "      <td>Sub-Saharan Africa</td>\n",
       "      <td>Cabinda</td>\n",
       "      <td>Futila</td>\n",
       "      <td>Armed Assault</td>\n",
       "      <td>Utilities</td>\n",
       "      <td>United States</td>\n",
       "      <td>Front for the Liberation of the Enclave of Cab...</td>\n",
       "      <td>5</td>\n",
       "      <td>Firearms</td>\n",
       "    </tr>\n",
       "    <tr>\n",
       "      <th>6976</th>\n",
       "      <td>1978</td>\n",
       "      <td>11</td>\n",
       "      <td>Spain</td>\n",
       "      <td>Western Europe</td>\n",
       "      <td>Unknown</td>\n",
       "      <td>Unknown</td>\n",
       "      <td>Hostage Taking (Kidnapping)</td>\n",
       "      <td>Government (General)</td>\n",
       "      <td>Spain</td>\n",
       "      <td>Basque Fatherland and Freedom (ETA)</td>\n",
       "      <td>13</td>\n",
       "      <td>Unknown</td>\n",
       "    </tr>\n",
       "  </tbody>\n",
       "</table>\n",
       "</div>"
      ],
      "text/plain": [
       "      Year  Month             Country                       Region  \\\n",
       "1580  1972     12           Australia        Australasia & Oceania   \n",
       "6183  1978      4           Guatemala  Central America & Caribbean   \n",
       "2885  1975      4               Japan                    East Asia   \n",
       "453   1970      8  East Germany (GDR)               Eastern Europe   \n",
       "4748  1977      6             Lebanon   Middle East & North Africa   \n",
       "898   1971      5       United States                North America   \n",
       "2998  1975      6                Peru                South America   \n",
       "4107  1976      9            Pakistan                   South Asia   \n",
       "5769  1978      1         Philippines               Southeast Asia   \n",
       "4388  1977      1              Angola           Sub-Saharan Africa   \n",
       "6976  1978     11               Spain               Western Europe   \n",
       "\n",
       "            State            City                     Attack Type  \\\n",
       "1580          NaN        Brisbane               Bombing/Explosion   \n",
       "6183          NaN  Guatemala City                   Assassination   \n",
       "2885          NaN           Tokyo               Bombing/Explosion   \n",
       "453           NaN     East Berlin               Bombing/Explosion   \n",
       "4748       Beirut          Beirut                   Assassination   \n",
       "898      Illinois    Bedford Park               Bombing/Explosion   \n",
       "2998         Lima            Lima               Bombing/Explosion   \n",
       "4107        Sindh         Karachi  Facility/Infrastructure Attack   \n",
       "5769  Maguindanao         Unknown     Hostage Taking (Kidnapping)   \n",
       "4388      Cabinda          Futila                   Armed Assault   \n",
       "6976      Unknown         Unknown     Hostage Taking (Kidnapping)   \n",
       "\n",
       "                           Target         Nation  \\\n",
       "1580                     Business  United States   \n",
       "6183                       Police      Guatemala   \n",
       "2885  Private Citizens & Property    South Korea   \n",
       "453          Government (General)        Germany   \n",
       "4748      Government (Diplomatic)   Saudi Arabia   \n",
       "898                        Police  United States   \n",
       "2998      Government (Diplomatic)  United States   \n",
       "4107          Airports & Aircraft          Syria   \n",
       "5769                     Business    South Korea   \n",
       "4388                    Utilities  United States   \n",
       "6976         Government (General)          Spain   \n",
       "\n",
       "                                              Gang Name  Weapon  \\\n",
       "1580                                            Unknown       6   \n",
       "6183                                            Unknown       5   \n",
       "2885                East Asia Anti Japanese Armed Front       6   \n",
       "453                                                 SFT       6   \n",
       "4748  Popular Front for the Liberation of Palestine ...       6   \n",
       "898                                  Black Nationalists       6   \n",
       "2998    Movement of the Revolutionary Left (MIR) (Peru)       6   \n",
       "4107                                       Palestinians       8   \n",
       "5769              Moro National Liberation Front (MNLF)      13   \n",
       "4388  Front for the Liberation of the Enclave of Cab...       5   \n",
       "6976                Basque Fatherland and Freedom (ETA)      13   \n",
       "\n",
       "                    Weapon Type  \n",
       "1580  Explosives/Bombs/Dynamite  \n",
       "6183                   Firearms  \n",
       "2885  Explosives/Bombs/Dynamite  \n",
       "453   Explosives/Bombs/Dynamite  \n",
       "4748  Explosives/Bombs/Dynamite  \n",
       "898   Explosives/Bombs/Dynamite  \n",
       "2998  Explosives/Bombs/Dynamite  \n",
       "4107                 Incendiary  \n",
       "5769                    Unknown  \n",
       "4388                   Firearms  \n",
       "6976                    Unknown  "
      ]
     },
     "execution_count": 67,
     "metadata": {},
     "output_type": "execute_result"
    }
   ],
   "source": [
    "grouped.sample()"
   ]
  },
  {
   "cell_type": "code",
   "execution_count": 68,
   "metadata": {},
   "outputs": [],
   "source": [
    "#europe = [i.endswith('Europe') for i in df['Region'] ]\n",
    "for i in df['Region']:\n",
    "    if i.endswith('America'):\n",
    "        europe = i"
   ]
  },
  {
   "cell_type": "code",
   "execution_count": 69,
   "metadata": {},
   "outputs": [
    {
     "data": {
      "text/plain": [
       "'South America'"
      ]
     },
     "execution_count": 69,
     "metadata": {},
     "output_type": "execute_result"
    }
   ],
   "source": [
    "europe"
   ]
  },
  {
   "cell_type": "code",
   "execution_count": 70,
   "metadata": {},
   "outputs": [],
   "source": [
    "for i in df['Region']:\n",
    "    if i.endswith('America'):\n",
    "        america = i"
   ]
  },
  {
   "cell_type": "code",
   "execution_count": 71,
   "metadata": {},
   "outputs": [
    {
     "data": {
      "text/plain": [
       "'South America'"
      ]
     },
     "execution_count": 71,
     "metadata": {},
     "output_type": "execute_result"
    }
   ],
   "source": [
    "america"
   ]
  },
  {
   "cell_type": "code",
   "execution_count": 72,
   "metadata": {},
   "outputs": [
    {
     "data": {
      "text/plain": [
       "count    6107.000000\n",
       "mean     1974.935156\n",
       "std         2.654166\n",
       "min      1970.000000\n",
       "25%      1973.000000\n",
       "50%      1976.000000\n",
       "75%      1977.000000\n",
       "max      1978.000000\n",
       "Name: Year, dtype: float64"
      ]
     },
     "execution_count": 72,
     "metadata": {},
     "output_type": "execute_result"
    }
   ],
   "source": [
    "df['Year'].describe()\n"
   ]
  },
  {
   "cell_type": "code",
   "execution_count": 73,
   "metadata": {},
   "outputs": [
    {
     "data": {
      "text/plain": [
       "<Axes: ylabel='Frequency'>"
      ]
     },
     "execution_count": 73,
     "metadata": {},
     "output_type": "execute_result"
    },
    {
     "data": {
      "image/png": "[encoded data removed]",
      "text/plain": [
       "<Figure size 640x480 with 1 Axes>"
      ]
     },
     "metadata": {},
     "output_type": "display_data"
    }
   ],
   "source": [
    "df['Year'].plot(kind='hist', bins=30)"
   ]
  },
  {
   "cell_type": "code",
   "execution_count": 74,
   "metadata": {},
   "outputs": [
    {
     "data": {
      "text/plain": [
       "<Axes: >"
      ]
     },
     "execution_count": 74,
     "metadata": {},
     "output_type": "execute_result"
    },
    {
     "data": {
      "image/png": "[encoded data removed]",
      "text/plain": [
       "<Figure size 640x480 with 1 Axes>"
      ]
     },
     "metadata": {},
     "output_type": "display_data"
    }
   ],
   "source": [
    "df['Year'].plot(kind='bar')"
   ]
  },
  {
   "cell_type": "code",
   "execution_count": 75,
   "metadata": {},
   "outputs": [
    {
     "data": {
      "text/plain": [
       "<Axes: ylabel='Density'>"
      ]
     },
     "execution_count": 75,
     "metadata": {},
     "output_type": "execute_result"
    },
    {
     "data": {
      "image/png": "[encoded data removed]",
      "text/plain": [
       "<Figure size 640x480 with 1 Axes>"
      ]
     },
     "metadata": {},
     "output_type": "display_data"
    }
   ],
   "source": [
    "df['Year'].plot(kind='kde')"
   ]
  },
  {
   "cell_type": "code",
   "execution_count": 76,
   "metadata": {},
   "outputs": [
    {
     "data": {
      "text/plain": [
       "np.float64(-0.5479089077112838)"
      ]
     },
     "execution_count": 76,
     "metadata": {},
     "output_type": "execute_result"
    }
   ],
   "source": [
    "df['Year'].skew()"
   ]
  },
  {
   "cell_type": "code",
   "execution_count": 77,
   "metadata": {},
   "outputs": [
    {
     "data": {
      "text/plain": [
       "<Axes: >"
      ]
     },
     "execution_count": 77,
     "metadata": {},
     "output_type": "execute_result"
    },
    {
     "data": {
      "image/png": "[encoded data removed]",
      "text/plain": [
       "<Figure size 640x480 with 1 Axes>"
      ]
     },
     "metadata": {},
     "output_type": "display_data"
    }
   ],
   "source": [
    "df['Year'].plot(kind='box')"
   ]
  },
  {
   "cell_type": "code",
   "execution_count": 78,
   "metadata": {},
   "outputs": [
    {
     "data": {
      "text/plain": [
       "count    6107.000000\n",
       "mean        6.330768\n",
       "std         3.415918\n",
       "min         0.000000\n",
       "25%         3.000000\n",
       "50%         6.000000\n",
       "75%         9.000000\n",
       "max        12.000000\n",
       "Name: Month, dtype: float64"
      ]
     },
     "execution_count": 78,
     "metadata": {},
     "output_type": "execute_result"
    }
   ],
   "source": [
    "df['Month'].describe()"
   ]
  },
  {
   "cell_type": "code",
   "execution_count": 79,
   "metadata": {},
   "outputs": [
    {
     "data": {
      "text/plain": [
       "<Axes: ylabel='Frequency'>"
      ]
     },
     "execution_count": 79,
     "metadata": {},
     "output_type": "execute_result"
    },
    {
     "data": {
      "image/png": "[encoded data removed]",
      "text/plain": [
       "<Figure size 640x480 with 1 Axes>"
      ]
     },
     "metadata": {},
     "output_type": "display_data"
    }
   ],
   "source": [
    "df['Month'].plot(kind='hist', bins=30)"
   ]
  },
  {
   "cell_type": "code",
   "execution_count": 80,
   "metadata": {},
   "outputs": [
    {
     "data": {
      "text/plain": [
       "<Axes: >"
      ]
     },
     "execution_count": 80,
     "metadata": {},
     "output_type": "execute_result"
    },
    {
     "data": {
      "image/png": "[encoded data removed]",
      "text/plain": [
       "<Figure size 640x480 with 1 Axes>"
      ]
     },
     "metadata": {},
     "output_type": "display_data"
    }
   ],
   "source": [
    "df['Month'].plot(kind='bar')"
   ]
  },
  {
   "cell_type": "code",
   "execution_count": 81,
   "metadata": {},
   "outputs": [
    {
     "data": {
      "text/plain": [
       "<Axes: ylabel='Density'>"
      ]
     },
     "execution_count": 81,
     "metadata": {},
     "output_type": "execute_result"
    },
    {
     "data": {
      "image/png": "[encoded data removed]",
      "text/plain": [
       "<Figure size 640x480 with 1 Axes>"
      ]
     },
     "metadata": {},
     "output_type": "display_data"
    }
   ],
   "source": [
    "df['Month'].plot(kind='kde')"
   ]
  },
  {
   "cell_type": "code",
   "execution_count": 82,
   "metadata": {},
   "outputs": [
    {
     "data": {
      "text/plain": [
       "np.float64(0.050298488833238966)"
      ]
     },
     "execution_count": 82,
     "metadata": {},
     "output_type": "execute_result"
    }
   ],
   "source": [
    "df['Month'].skew()"
   ]
  },
  {
   "cell_type": "code",
   "execution_count": 83,
   "metadata": {},
   "outputs": [
    {
     "data": {
      "text/plain": [
       "<Axes: >"
      ]
     },
     "execution_count": 83,
     "metadata": {},
     "output_type": "execute_result"
    },
    {
     "data": {
      "image/png": "[encoded data removed]",
      "text/plain": [
       "<Figure size 640x480 with 1 Axes>"
      ]
     },
     "metadata": {},
     "output_type": "display_data"
    }
   ],
   "source": [
    "df['Month'].plot(kind='box')"
   ]
  },
  {
   "cell_type": "code",
   "execution_count": 84,
   "metadata": {},
   "outputs": [
    {
     "data": {
      "text/plain": [
       "count    6107.000000\n",
       "mean        6.567545\n",
       "std         2.170994\n",
       "min         2.000000\n",
       "25%         5.000000\n",
       "50%         6.000000\n",
       "75%         6.000000\n",
       "max        13.000000\n",
       "Name: Weapon, dtype: float64"
      ]
     },
     "execution_count": 84,
     "metadata": {},
     "output_type": "execute_result"
    }
   ],
   "source": [
    "df['Weapon'].describe()"
   ]
  },
  {
   "cell_type": "code",
   "execution_count": 85,
   "metadata": {},
   "outputs": [
    {
     "data": {
      "text/plain": [
       "<Axes: ylabel='Frequency'>"
      ]
     },
     "execution_count": 85,
     "metadata": {},
     "output_type": "execute_result"
    },
    {
     "data": {
      "image/png": "[encoded data removed]",
      "text/plain": [
       "<Figure size 640x480 with 1 Axes>"
      ]
     },
     "metadata": {},
     "output_type": "display_data"
    }
   ],
   "source": [
    "df['Weapon'].plot(kind='hist', bins=30)"
   ]
  },
  {
   "cell_type": "code",
   "execution_count": 86,
   "metadata": {},
   "outputs": [
    {
     "data": {
      "text/plain": [
       "<Axes: ylabel='Density'>"
      ]
     },
     "execution_count": 86,
     "metadata": {},
     "output_type": "execute_result"
    },
    {
     "data": {
      "image/png": "[encoded data removed]",
      "text/plain": [
       "<Figure size 640x480 with 1 Axes>"
      ]
     },
     "metadata": {},
     "output_type": "display_data"
    }
   ],
   "source": [
    "df['Weapon'].plot(kind='kde')"
   ]
  },
  {
   "cell_type": "code",
   "execution_count": 87,
   "metadata": {},
   "outputs": [
    {
     "data": {
      "text/plain": [
       "np.float64(2.016954347029763)"
      ]
     },
     "execution_count": 87,
     "metadata": {},
     "output_type": "execute_result"
    }
   ],
   "source": [
    "df['Weapon'].skew()"
   ]
  },
  {
   "cell_type": "code",
   "execution_count": 88,
   "metadata": {},
   "outputs": [
    {
     "data": {
      "text/plain": [
       "<Axes: >"
      ]
     },
     "execution_count": 88,
     "metadata": {},
     "output_type": "execute_result"
    },
    {
     "data": {
      "image/png": "[encoded data removed]",
      "text/plain": [
       "<Figure size 640x480 with 1 Axes>"
      ]
     },
     "metadata": {},
     "output_type": "display_data"
    }
   ],
   "source": [
    "df['Weapon'].plot(kind='box')"
   ]
  },
  {
   "cell_type": "code",
   "execution_count": 89,
   "metadata": {},
   "outputs": [
    {
     "data": {
      "text/html": [
       "<div>\n",
       "<style scoped>\n",
       "    .dataframe tbody tr th:only-of-type {\n",
       "        vertical-align: middle;\n",
       "    }\n",
       "\n",
       "    .dataframe tbody tr th {\n",
       "        vertical-align: top;\n",
       "    }\n",
       "\n",
       "    .dataframe thead th {\n",
       "        text-align: right;\n",
       "    }\n",
       "</style>\n",
       "<table border=\"1\" class=\"dataframe\">\n",
       "  <thead>\n",
       "    <tr style=\"text-align: right;\">\n",
       "      <th></th>\n",
       "      <th>Year</th>\n",
       "      <th>Month</th>\n",
       "      <th>Country</th>\n",
       "      <th>Region</th>\n",
       "      <th>State</th>\n",
       "      <th>City</th>\n",
       "      <th>Attack Type</th>\n",
       "      <th>Target</th>\n",
       "      <th>Nation</th>\n",
       "      <th>Gang Name</th>\n",
       "      <th>Weapon</th>\n",
       "      <th>Weapon Type</th>\n",
       "    </tr>\n",
       "  </thead>\n",
       "  <tbody>\n",
       "    <tr>\n",
       "      <th>2996</th>\n",
       "      <td>1975</td>\n",
       "      <td>6</td>\n",
       "      <td>Spain</td>\n",
       "      <td>Western Europe</td>\n",
       "      <td>Unknown</td>\n",
       "      <td>Unknown</td>\n",
       "      <td>Assassination</td>\n",
       "      <td>Police</td>\n",
       "      <td>Spain</td>\n",
       "      <td>Basque Fatherland and Freedom (ETA)</td>\n",
       "      <td>5</td>\n",
       "      <td>Firearms</td>\n",
       "    </tr>\n",
       "    <tr>\n",
       "      <th>1054</th>\n",
       "      <td>1971</td>\n",
       "      <td>10</td>\n",
       "      <td>United Kingdom</td>\n",
       "      <td>Western Europe</td>\n",
       "      <td>Northern Ireland</td>\n",
       "      <td>Belfast</td>\n",
       "      <td>Bombing/Explosion</td>\n",
       "      <td>Business</td>\n",
       "      <td>Northern Ireland</td>\n",
       "      <td>Irish Republican Army (IRA)</td>\n",
       "      <td>6</td>\n",
       "      <td>Explosives/Bombs/Dynamite</td>\n",
       "    </tr>\n",
       "    <tr>\n",
       "      <th>3841</th>\n",
       "      <td>1976</td>\n",
       "      <td>6</td>\n",
       "      <td>Italy</td>\n",
       "      <td>Western Europe</td>\n",
       "      <td>Lombardy</td>\n",
       "      <td>Milan</td>\n",
       "      <td>Bombing/Explosion</td>\n",
       "      <td>Business</td>\n",
       "      <td>Germany</td>\n",
       "      <td>Unknown</td>\n",
       "      <td>6</td>\n",
       "      <td>Explosives/Bombs/Dynamite</td>\n",
       "    </tr>\n",
       "    <tr>\n",
       "      <th>1056</th>\n",
       "      <td>1971</td>\n",
       "      <td>10</td>\n",
       "      <td>United Kingdom</td>\n",
       "      <td>Western Europe</td>\n",
       "      <td>Northern Ireland</td>\n",
       "      <td>Londonderry</td>\n",
       "      <td>Bombing/Explosion</td>\n",
       "      <td>Military</td>\n",
       "      <td>Great Britain</td>\n",
       "      <td>Irish Republican Army (IRA)</td>\n",
       "      <td>6</td>\n",
       "      <td>Explosives/Bombs/Dynamite</td>\n",
       "    </tr>\n",
       "    <tr>\n",
       "      <th>3936</th>\n",
       "      <td>1976</td>\n",
       "      <td>7</td>\n",
       "      <td>Spain</td>\n",
       "      <td>Western Europe</td>\n",
       "      <td>Madrid</td>\n",
       "      <td>Madrid</td>\n",
       "      <td>Bombing/Explosion</td>\n",
       "      <td>Government (Diplomatic)</td>\n",
       "      <td>Kuwait</td>\n",
       "      <td>Unknown</td>\n",
       "      <td>6</td>\n",
       "      <td>Explosives/Bombs/Dynamite</td>\n",
       "    </tr>\n",
       "  </tbody>\n",
       "</table>\n",
       "</div>"
      ],
      "text/plain": [
       "      Year  Month         Country          Region             State  \\\n",
       "2996  1975      6           Spain  Western Europe           Unknown   \n",
       "1054  1971     10  United Kingdom  Western Europe  Northern Ireland   \n",
       "3841  1976      6           Italy  Western Europe          Lombardy   \n",
       "1056  1971     10  United Kingdom  Western Europe  Northern Ireland   \n",
       "3936  1976      7           Spain  Western Europe            Madrid   \n",
       "\n",
       "             City        Attack Type                   Target  \\\n",
       "2996      Unknown      Assassination                   Police   \n",
       "1054      Belfast  Bombing/Explosion                 Business   \n",
       "3841        Milan  Bombing/Explosion                 Business   \n",
       "1056  Londonderry  Bombing/Explosion                 Military   \n",
       "3936       Madrid  Bombing/Explosion  Government (Diplomatic)   \n",
       "\n",
       "                Nation                            Gang Name  Weapon  \\\n",
       "2996             Spain  Basque Fatherland and Freedom (ETA)       5   \n",
       "1054  Northern Ireland          Irish Republican Army (IRA)       6   \n",
       "3841           Germany                              Unknown       6   \n",
       "1056     Great Britain          Irish Republican Army (IRA)       6   \n",
       "3936            Kuwait                              Unknown       6   \n",
       "\n",
       "                    Weapon Type  \n",
       "2996                   Firearms  \n",
       "1054  Explosives/Bombs/Dynamite  \n",
       "3841  Explosives/Bombs/Dynamite  \n",
       "1056  Explosives/Bombs/Dynamite  \n",
       "3936  Explosives/Bombs/Dynamite  "
      ]
     },
     "execution_count": 89,
     "metadata": {},
     "output_type": "execute_result"
    }
   ],
   "source": [
    "df.sample(5)"
   ]
  },
  {
   "cell_type": "code",
   "execution_count": 90,
   "metadata": {},
   "outputs": [],
   "source": [
    "df =df.drop(columns=['Nation'])"
   ]
  },
  {
   "cell_type": "code",
   "execution_count": 91,
   "metadata": {},
   "outputs": [
    {
     "data": {
      "text/plain": [
       "(6107, 11)"
      ]
     },
     "execution_count": 91,
     "metadata": {},
     "output_type": "execute_result"
    }
   ],
   "source": [
    "df.shape"
   ]
  },
  {
   "cell_type": "code",
   "execution_count": 96,
   "metadata": {},
   "outputs": [
    {
     "data": {
      "text/plain": [
       "0       1970\n",
       "1       1970\n",
       "2       1970\n",
       "3       1970\n",
       "4       1970\n",
       "        ... \n",
       "6993    1978\n",
       "6994    1978\n",
       "6995    1978\n",
       "6996    1978\n",
       "6998    1978\n",
       "Name: Year, Length: 6107, dtype: int64"
      ]
     },
     "execution_count": 96,
     "metadata": {},
     "output_type": "execute_result"
    }
   ],
   "source": [
    "df['Year']"
   ]
  },
  {
   "cell_type": "code",
   "execution_count": null,
   "metadata": {},
   "outputs": [],
   "source": []
  }
 ],
 "metadata": {
  "kernelspec": {
   "display_name": "Python 3",
   "language": "python",
   "name": "python3"
  },
  "language_info": {
   "codemirror_mode": {
    "name": "ipython",
    "version": 3
   },
   "file_extension": ".py",
   "mimetype": "text/x-python",
   "name": "python",
   "nbconvert_exporter": "python",
   "pygments_lexer": "ipython3",
   "version": "3.12.1"
  }
 },
 "nbformat": 4,
 "nbformat_minor": 2
}
