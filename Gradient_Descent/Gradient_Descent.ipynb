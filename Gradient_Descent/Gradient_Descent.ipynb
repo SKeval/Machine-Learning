{
 "cells": [
  {
   "cell_type": "markdown",
   "id": "f43b7349",
   "metadata": {},
   "source": [
    "## Gradient Descent"
   ]
  },
  {
   "cell_type": "code",
   "execution_count": 1,
   "id": "1000d27b",
   "metadata": {},
   "outputs": [],
   "source": [
    "import numpy as np\n",
    "import pandas as pd"
   ]
  },
  {
   "cell_type": "code",
   "execution_count": 2,
   "id": "29b2eaa6",
   "metadata": {},
   "outputs": [],
   "source": [
    "df = pd.read_csv('housing_price_dataset.csv')"
   ]
  },
  {
   "cell_type": "code",
   "execution_count": 3,
   "id": "4fff537c",
   "metadata": {},
   "outputs": [
    {
     "data": {
      "text/html": [
       "<div>\n",
       "<style scoped>\n",
       "    .dataframe tbody tr th:only-of-type {\n",
       "        vertical-align: middle;\n",
       "    }\n",
       "\n",
       "    .dataframe tbody tr th {\n",
       "        vertical-align: top;\n",
       "    }\n",
       "\n",
       "    .dataframe thead th {\n",
       "        text-align: right;\n",
       "    }\n",
       "</style>\n",
       "<table border=\"1\" class=\"dataframe\">\n",
       "  <thead>\n",
       "    <tr style=\"text-align: right;\">\n",
       "      <th></th>\n",
       "      <th>SquareFeet</th>\n",
       "      <th>Bedrooms</th>\n",
       "      <th>Bathrooms</th>\n",
       "      <th>Neighborhood</th>\n",
       "      <th>YearBuilt</th>\n",
       "      <th>Price</th>\n",
       "    </tr>\n",
       "  </thead>\n",
       "  <tbody>\n",
       "    <tr>\n",
       "      <th>0</th>\n",
       "      <td>2126</td>\n",
       "      <td>4</td>\n",
       "      <td>1</td>\n",
       "      <td>Rural</td>\n",
       "      <td>1969</td>\n",
       "      <td>215355.283618</td>\n",
       "    </tr>\n",
       "    <tr>\n",
       "      <th>1</th>\n",
       "      <td>2459</td>\n",
       "      <td>3</td>\n",
       "      <td>2</td>\n",
       "      <td>Rural</td>\n",
       "      <td>1980</td>\n",
       "      <td>195014.221626</td>\n",
       "    </tr>\n",
       "    <tr>\n",
       "      <th>2</th>\n",
       "      <td>1860</td>\n",
       "      <td>2</td>\n",
       "      <td>1</td>\n",
       "      <td>Suburb</td>\n",
       "      <td>1970</td>\n",
       "      <td>306891.012076</td>\n",
       "    </tr>\n",
       "    <tr>\n",
       "      <th>3</th>\n",
       "      <td>2294</td>\n",
       "      <td>2</td>\n",
       "      <td>1</td>\n",
       "      <td>Urban</td>\n",
       "      <td>1996</td>\n",
       "      <td>206786.787153</td>\n",
       "    </tr>\n",
       "    <tr>\n",
       "      <th>4</th>\n",
       "      <td>2130</td>\n",
       "      <td>5</td>\n",
       "      <td>2</td>\n",
       "      <td>Suburb</td>\n",
       "      <td>2001</td>\n",
       "      <td>272436.239065</td>\n",
       "    </tr>\n",
       "  </tbody>\n",
       "</table>\n",
       "</div>"
      ],
      "text/plain": [
       "   SquareFeet  Bedrooms  Bathrooms Neighborhood  YearBuilt          Price\n",
       "0        2126         4          1        Rural       1969  215355.283618\n",
       "1        2459         3          2        Rural       1980  195014.221626\n",
       "2        1860         2          1       Suburb       1970  306891.012076\n",
       "3        2294         2          1        Urban       1996  206786.787153\n",
       "4        2130         5          2       Suburb       2001  272436.239065"
      ]
     },
     "execution_count": 3,
     "metadata": {},
     "output_type": "execute_result"
    }
   ],
   "source": [
    "df.head()"
   ]
  },
  {
   "cell_type": "code",
   "execution_count": 4,
   "id": "66cb94d0",
   "metadata": {},
   "outputs": [
    {
     "data": {
      "text/plain": [
       "(50000, 6)"
      ]
     },
     "execution_count": 4,
     "metadata": {},
     "output_type": "execute_result"
    }
   ],
   "source": [
    "df.shape"
   ]
  },
  {
   "cell_type": "code",
   "execution_count": 90,
   "id": "ac64c5f2",
   "metadata": {},
   "outputs": [
    {
     "data": {
      "text/plain": [
       "((442, 10), (442,))"
      ]
     },
     "execution_count": 90,
     "metadata": {},
     "output_type": "execute_result"
    }
   ],
   "source": [
    "from sklearn.datasets import load_diabetes\n",
    "\n",
    "X_dia, y_dia = load_diabetes(return_X_y=True)\n",
    "\n",
    "X_dia.shape, y_dia.shape"
   ]
  },
  {
   "cell_type": "code",
   "execution_count": 5,
   "id": "2c3c6c3b",
   "metadata": {},
   "outputs": [],
   "source": [
    "from sklearn import preprocessing as pp\n",
    "from sklearn.model_selection import train_test_split\n",
    "from sklearn.compose import ColumnTransformer"
   ]
  },
  {
   "cell_type": "code",
   "execution_count": 6,
   "id": "0570add8",
   "metadata": {},
   "outputs": [
    {
     "data": {
      "text/plain": [
       "((40000, 5), (10000, 5), (40000,), (10000,))"
      ]
     },
     "execution_count": 6,
     "metadata": {},
     "output_type": "execute_result"
    }
   ],
   "source": [
    "xtrain,xtest,ytrain,ytest = train_test_split(df.drop(columns='Price'),df['Price'],test_size=0.2,random_state=42)\n",
    "xtrain.shape, xtest.shape, ytrain.shape, ytest.shape"
   ]
  },
  {
   "cell_type": "code",
   "execution_count": 7,
   "id": "66a02f64",
   "metadata": {},
   "outputs": [],
   "source": [
    "trf = ColumnTransformer(sparse_threshold=False, transformers= [\n",
    "    ('num',pp.StandardScaler(),['SquareFeet','Bedrooms','Bathrooms','YearBuilt']),\n",
    "    ('cat',pp.OneHotEncoder(),['Neighborhood']),\n",
    "     ],remainder='passthrough')"
   ]
  },
  {
   "cell_type": "code",
   "execution_count": 8,
   "id": "4fc94936",
   "metadata": {},
   "outputs": [],
   "source": [
    "xtrain = trf.fit_transform(xtrain)\n",
    "xtest = trf.transform(xtest)"
   ]
  },
  {
   "cell_type": "code",
   "execution_count": 9,
   "id": "5f0a1092",
   "metadata": {},
   "outputs": [
    {
     "data": {
      "text/plain": [
       "((40000, 7), (40000,))"
      ]
     },
     "execution_count": 9,
     "metadata": {},
     "output_type": "execute_result"
    }
   ],
   "source": [
    "xtrain.shape, ytrain.shape"
   ]
  },
  {
   "cell_type": "code",
   "execution_count": 30,
   "id": "4449b954",
   "metadata": {},
   "outputs": [],
   "source": [
    "class GDRegressor : \n",
    "    def __init__(self, learning_rate=0.01, epochs=100) :\n",
    "        self.lr = learning_rate\n",
    "        self.epochs = epochs\n",
    "        self.m =None\n",
    "        self.b = None\n",
    "        \n",
    "    def fit(self, X,y):\n",
    "        #X = np.array(X)\n",
    "       # y = np.array(y)\n",
    "        \n",
    "        n_samples, n_features = X.shape\n",
    "        self.m = np.zeros(n_features)\n",
    "        self.b = 0\n",
    "        \n",
    "        # Calculate b and m using GD \n",
    "        for i in range(self.epochs) :\n",
    "            y_pred = np.dot(X, self.m) + self.b\n",
    "            error = y_pred - y\n",
    "            \n",
    "            \n",
    "            db = (-2/X.shape[0]) * np.sum(error)\n",
    "           # dm = (-2/n_samples) * np.dot(X.T, error)\n",
    "            dm = -2 * np.dot(error,X)/X.shape[0]\n",
    "            \n",
    "           \n",
    "            self.b -= (self.lr * db)\n",
    "            self.m -= (self.lr * dm)\n",
    "        print(f\"b: {self.b}, m: {self.m}\")\n",
    "    \n",
    "    def predict(self, X) :\n",
    "        y_pred = np.dot(X, self.m) + self.bias\n",
    "        return y_pred\n",
    "           "
   ]
  },
  {
   "cell_type": "code",
   "execution_count": null,
   "id": "d3804500",
   "metadata": {},
   "outputs": [
    {
     "name": "stdout",
     "output_type": "stream",
     "text": [
      "b: -51523.24514398115, m: [-12652.23538594  -1277.76838975   -523.19152995     68.17053328\n",
      " -17126.28393644 -17125.34414474 -17271.6170628 ]\n"
     ]
    }
   ],
   "source": [
    "gd = GDRegressor(learning_rate=0.00001, epochs=10000)\n",
    "gd.fit(xtrain, ytrain)"
   ]
  },
  {
   "cell_type": "code",
   "execution_count": 12,
   "id": "8894d1e9",
   "metadata": {},
   "outputs": [],
   "source": [
    "ypred = gd.predict(xtest)\n"
   ]
  },
  {
   "cell_type": "code",
   "execution_count": 13,
   "id": "feb66b65",
   "metadata": {},
   "outputs": [],
   "source": [
    "from sklearn.metrics import mean_squared_error, mean_absolute_error, r2_score\n",
    "from sklearn.linear_model import LinearRegression\n",
    "lr = LinearRegression()\n",
    "lr.fit(xtrain, ytrain)\n",
    "ypred_lr = lr.predict(xtest)"
   ]
  },
  {
   "cell_type": "code",
   "execution_count": 14,
   "id": "2f82a2e3",
   "metadata": {},
   "outputs": [
    {
     "name": "stdout",
     "output_type": "stream",
     "text": [
      "[57145.59775123  5831.92112322  2422.27156096  -118.06462444\n",
      "  -273.55711806  -869.08798284  1142.6451009 ] 224797.2388804618\n",
      "GD MSE:  2436249371.3072467\n"
     ]
    }
   ],
   "source": [
    "print(lr.coef_, lr.intercept_)\n",
    "print(\"GD MSE: \", mean_squared_error(ytest, ypred_lr))"
   ]
  },
  {
   "cell_type": "code",
   "execution_count": 15,
   "id": "c280db28",
   "metadata": {},
   "outputs": [
    {
     "name": "stdout",
     "output_type": "stream",
     "text": [
      "GD MSE:  4.0394391678878184e+95\n"
     ]
    }
   ],
   "source": [
    "print(\"GD MSE: \", mean_squared_error(ytest, ypred))"
   ]
  },
  {
   "cell_type": "code",
   "execution_count": 16,
   "id": "a78af918",
   "metadata": {},
   "outputs": [
    {
     "data": {
      "text/plain": [
       "0.5755628630306235"
      ]
     },
     "execution_count": 16,
     "metadata": {},
     "output_type": "execute_result"
    }
   ],
   "source": [
    "r2_score(ytest, ypred_lr)"
   ]
  },
  {
   "cell_type": "code",
   "execution_count": 17,
   "id": "cc2e93cf",
   "metadata": {},
   "outputs": [
    {
     "data": {
      "text/plain": [
       "-7.037407646247245e+85"
      ]
     },
     "execution_count": 17,
     "metadata": {},
     "output_type": "execute_result"
    }
   ],
   "source": [
    "r2_score(ytest, ypred)"
   ]
  },
  {
   "cell_type": "code",
   "execution_count": 91,
   "id": "255bb59e",
   "metadata": {},
   "outputs": [
    {
     "data": {
      "text/plain": [
       "((353, 10), (353,), (89, 10), (89,))"
      ]
     },
     "execution_count": 91,
     "metadata": {},
     "output_type": "execute_result"
    }
   ],
   "source": [
    "Xtrain,Xtest,Ytrain,Ytest = train_test_split(X_dia,y_dia,test_size=0.2,random_state=42)\n",
    "Xtrain.shape, Ytrain.shape, Xtest.shape, Ytest.shape                        "
   ]
  },
  {
   "cell_type": "code",
   "execution_count": 105,
   "id": "62ca43cf",
   "metadata": {},
   "outputs": [],
   "source": [
    "class GDRegressors : \n",
    "    def __init__(self, learning_rate=0.01, epochs=100) :\n",
    "        self.lr = learning_rate\n",
    "        self.epochs = epochs\n",
    "        self.m =None\n",
    "        self.b = None\n",
    "        \n",
    "    def fit(self, Xtrain,Ytrain):\n",
    "        #X = np.array(X)\n",
    "        #y = np.array(y)\n",
    "        \n",
    "        n_samples, n_features = Xtrain.shape\n",
    "        self.m = np.zeros(n_features)\n",
    "        self.b = 0\n",
    "        \n",
    "        # Calculate b and m using GD \n",
    "        for i in range(self.epochs) :\n",
    "            y_pred = np.dot(Xtrain, self.m) + self.b\n",
    "            error = Ytrain - y_pred\n",
    "            \n",
    "            \n",
    "            db = -2 * np.mean(error)\n",
    "           # dm = (-2/n_samples) * np.dot(X.T, error)\n",
    "            dm = -2 * np.dot(error,Xtrain)/Xtrain.shape[0]\n",
    "            \n",
    "           \n",
    "            self.b -= (self.lr * db)\n",
    "            self.m -= (self.lr * dm)\n",
    "        print(f\"b: {self.b}, m: {self.m}\")\n",
    "    \n",
    "    def predict(self, X) :\n",
    "        y_pred = np.dot(X, self.m) + self.b\n",
    "        return y_pred\n",
    "           "
   ]
  },
  {
   "cell_type": "code",
   "execution_count": 139,
   "id": "aba81b09",
   "metadata": {},
   "outputs": [
    {
     "name": "stdout",
     "output_type": "stream",
     "text": [
      "b: 151.31402329206674, m: [  41.36223135 -240.64461079  554.41800146  343.88293446 -312.36052847\n",
      "   32.80752815 -114.84803922  189.03431081  499.18721216   53.09348668]\n"
     ]
    },
    {
     "data": {
      "text/plain": [
       "0.4552040165791882"
      ]
     },
     "execution_count": 139,
     "metadata": {},
     "output_type": "execute_result"
    }
   ],
   "source": [
    "gds = GDRegressors(learning_rate=0.9, epochs=9000)\n",
    "gds.fit(Xtrain,Ytrain)\n",
    "ypred = gds.predict(Xtest)\n",
    "r2_score(Ytest, ypred)"
   ]
  },
  {
   "cell_type": "code",
   "execution_count": null,
   "id": "aa494513",
   "metadata": {},
   "outputs": [],
   "source": []
  }
 ],
 "metadata": {
  "kernelspec": {
   "display_name": "Python 3",
   "language": "python",
   "name": "python3"
  },
  "language_info": {
   "codemirror_mode": {
    "name": "ipython",
    "version": 3
   },
   "file_extension": ".py",
   "mimetype": "text/x-python",
   "name": "python",
   "nbconvert_exporter": "python",
   "pygments_lexer": "ipython3",
   "version": "3.12.1"
  }
 },
 "nbformat": 4,
 "nbformat_minor": 5
}
