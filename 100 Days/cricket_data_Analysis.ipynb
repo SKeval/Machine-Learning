{
 "cells": [
  {
   "cell_type": "code",
   "execution_count": 2,
   "metadata": {},
   "outputs": [],
   "source": [
    "import pandas as pd\n",
    "import numpy as np\n",
    "import seaborn as sns"
   ]
  },
  {
   "cell_type": "code",
   "execution_count": 23,
   "metadata": {},
   "outputs": [
    {
     "data": {
      "text/html": [
       "<div>\n",
       "<style scoped>\n",
       "    .dataframe tbody tr th:only-of-type {\n",
       "        vertical-align: middle;\n",
       "    }\n",
       "\n",
       "    .dataframe tbody tr th {\n",
       "        vertical-align: top;\n",
       "    }\n",
       "\n",
       "    .dataframe thead th {\n",
       "        text-align: right;\n",
       "    }\n",
       "</style>\n",
       "<table border=\"1\" class=\"dataframe\">\n",
       "  <thead>\n",
       "    <tr style=\"text-align: right;\">\n",
       "      <th></th>\n",
       "      <th>BATSMEN</th>\n",
       "      <th>RUN SOCRED</th>\n",
       "      <th>TIME SPEND ON PITCH</th>\n",
       "      <th>BALLS FACED</th>\n",
       "      <th>FOURS</th>\n",
       "      <th>SIXES</th>\n",
       "      <th>STRIKE RATE</th>\n",
       "      <th>TEAM</th>\n",
       "      <th>OPPOSITION</th>\n",
       "      <th>VENUE</th>\n",
       "      <th>MATCH DATE</th>\n",
       "      <th>SCORECARD</th>\n",
       "    </tr>\n",
       "  </thead>\n",
       "  <tbody>\n",
       "    <tr>\n",
       "      <th>81</th>\n",
       "      <td>JJ Roy</td>\n",
       "      <td>162</td>\n",
       "      <td>172</td>\n",
       "      <td>118</td>\n",
       "      <td>13</td>\n",
       "      <td>3</td>\n",
       "      <td>137.28</td>\n",
       "      <td>England</td>\n",
       "      <td>v Sri Lanka</td>\n",
       "      <td>The Oval</td>\n",
       "      <td>29 Jun 2016</td>\n",
       "      <td>ODI # 3757</td>\n",
       "    </tr>\n",
       "    <tr>\n",
       "      <th>5</th>\n",
       "      <td>P Nissanka</td>\n",
       "      <td>210*</td>\n",
       "      <td>221</td>\n",
       "      <td>139</td>\n",
       "      <td>20</td>\n",
       "      <td>8</td>\n",
       "      <td>151.07</td>\n",
       "      <td>Sri Lanka</td>\n",
       "      <td>v Afghanistan</td>\n",
       "      <td>Pallekele</td>\n",
       "      <td>09 Feb 2024</td>\n",
       "      <td>ODI # 4725</td>\n",
       "    </tr>\n",
       "    <tr>\n",
       "      <th>57</th>\n",
       "      <td>AC Gilchrist</td>\n",
       "      <td>172</td>\n",
       "      <td>197</td>\n",
       "      <td>126</td>\n",
       "      <td>13</td>\n",
       "      <td>3</td>\n",
       "      <td>136.50</td>\n",
       "      <td>Australia</td>\n",
       "      <td>v Zimbabwe</td>\n",
       "      <td>Hobart</td>\n",
       "      <td>16 Jan 2004</td>\n",
       "      <td>ODI # 2082</td>\n",
       "    </tr>\n",
       "    <tr>\n",
       "      <th>7</th>\n",
       "      <td>RG Sharma</td>\n",
       "      <td>209</td>\n",
       "      <td>222</td>\n",
       "      <td>158</td>\n",
       "      <td>12</td>\n",
       "      <td>16</td>\n",
       "      <td>132.27</td>\n",
       "      <td>India</td>\n",
       "      <td>v Australia</td>\n",
       "      <td>Bengaluru</td>\n",
       "      <td>02 Nov 2013</td>\n",
       "      <td>ODI # 3428</td>\n",
       "    </tr>\n",
       "    <tr>\n",
       "      <th>95</th>\n",
       "      <td>D Mongia</td>\n",
       "      <td>159*</td>\n",
       "      <td>233</td>\n",
       "      <td>147</td>\n",
       "      <td>17</td>\n",
       "      <td>1</td>\n",
       "      <td>108.16</td>\n",
       "      <td>India</td>\n",
       "      <td>v Zimbabwe</td>\n",
       "      <td>Guwahati</td>\n",
       "      <td>19 Mar 2002</td>\n",
       "      <td>ODI # 1818</td>\n",
       "    </tr>\n",
       "  </tbody>\n",
       "</table>\n",
       "</div>"
      ],
      "text/plain": [
       "         BATSMEN RUN SOCRED TIME SPEND ON PITCH  BALLS FACED  FOURS SIXES  \\\n",
       "81        JJ Roy        162                 172          118     13     3   \n",
       "5     P Nissanka       210*                 221          139     20     8   \n",
       "57  AC Gilchrist        172                 197          126     13     3   \n",
       "7      RG Sharma        209                 222          158     12    16   \n",
       "95      D Mongia       159*                 233          147     17     1   \n",
       "\n",
       "    STRIKE RATE       TEAM     OPPOSITION      VENUE   MATCH DATE   SCORECARD  \n",
       "81       137.28    England    v Sri Lanka   The Oval  29 Jun 2016  ODI # 3757  \n",
       "5        151.07  Sri Lanka  v Afghanistan  Pallekele  09 Feb 2024  ODI # 4725  \n",
       "57       136.50  Australia     v Zimbabwe     Hobart  16 Jan 2004  ODI # 2082  \n",
       "7        132.27      India    v Australia  Bengaluru  02 Nov 2013  ODI # 3428  \n",
       "95       108.16      India     v Zimbabwe   Guwahati  19 Mar 2002  ODI # 1818  "
      ]
     },
     "execution_count": 23,
     "metadata": {},
     "output_type": "execute_result"
    }
   ],
   "source": [
    "df = pd.read_csv('cricket.csv')\n",
    "\n",
    "df.shape\n",
    "df = df.iloc[:,1:]\n",
    "df.sample(5)\n"
   ]
  },
  {
   "cell_type": "code",
   "execution_count": 24,
   "metadata": {},
   "outputs": [
    {
     "name": "stdout",
     "output_type": "stream",
     "text": [
      "<class 'pandas.core.frame.DataFrame'>\n",
      "RangeIndex: 100 entries, 0 to 99\n",
      "Data columns (total 12 columns):\n",
      " #   Column               Non-Null Count  Dtype  \n",
      "---  ------               --------------  -----  \n",
      " 0   BATSMEN              100 non-null    object \n",
      " 1   RUN SOCRED           100 non-null    object \n",
      " 2   TIME SPEND ON PITCH  100 non-null    object \n",
      " 3   BALLS FACED          100 non-null    int64  \n",
      " 4   FOURS                100 non-null    int64  \n",
      " 5   SIXES                100 non-null    object \n",
      " 6   STRIKE RATE          100 non-null    float64\n",
      " 7   TEAM                 100 non-null    object \n",
      " 8   OPPOSITION           100 non-null    object \n",
      " 9   VENUE                100 non-null    object \n",
      " 10  MATCH DATE           100 non-null    object \n",
      " 11  SCORECARD            100 non-null    object \n",
      "dtypes: float64(1), int64(2), object(9)\n",
      "memory usage: 9.5+ KB\n"
     ]
    },
    {
     "data": {
      "text/plain": [
       "(100, 12)"
      ]
     },
     "execution_count": 24,
     "metadata": {},
     "output_type": "execute_result"
    }
   ],
   "source": [
    "df.info()\n",
    "df.shape"
   ]
  },
  {
   "cell_type": "code",
   "execution_count": 25,
   "metadata": {},
   "outputs": [
    {
     "data": {
      "text/plain": [
       "BATSMEN                0\n",
       "RUN SOCRED             0\n",
       "TIME SPEND ON PITCH    0\n",
       "BALLS FACED            0\n",
       "FOURS                  0\n",
       "SIXES                  0\n",
       "STRIKE RATE            0\n",
       "TEAM                   0\n",
       "OPPOSITION             0\n",
       "VENUE                  0\n",
       "MATCH DATE             0\n",
       "SCORECARD              0\n",
       "dtype: int64"
      ]
     },
     "execution_count": 25,
     "metadata": {},
     "output_type": "execute_result"
    }
   ],
   "source": [
    "df.isnull().sum()"
   ]
  },
  {
   "cell_type": "code",
   "execution_count": 27,
   "metadata": {},
   "outputs": [
    {
     "data": {
      "text/html": [
       "<div>\n",
       "<style scoped>\n",
       "    .dataframe tbody tr th:only-of-type {\n",
       "        vertical-align: middle;\n",
       "    }\n",
       "\n",
       "    .dataframe tbody tr th {\n",
       "        vertical-align: top;\n",
       "    }\n",
       "\n",
       "    .dataframe thead th {\n",
       "        text-align: right;\n",
       "    }\n",
       "</style>\n",
       "<table border=\"1\" class=\"dataframe\">\n",
       "  <thead>\n",
       "    <tr style=\"text-align: right;\">\n",
       "      <th></th>\n",
       "      <th>BALLS FACED</th>\n",
       "      <th>FOURS</th>\n",
       "      <th>STRIKE RATE</th>\n",
       "    </tr>\n",
       "  </thead>\n",
       "  <tbody>\n",
       "    <tr>\n",
       "      <th>count</th>\n",
       "      <td>100.000000</td>\n",
       "      <td>100.000000</td>\n",
       "      <td>100.000000</td>\n",
       "    </tr>\n",
       "    <tr>\n",
       "      <th>mean</th>\n",
       "      <td>138.170000</td>\n",
       "      <td>16.700000</td>\n",
       "      <td>131.685800</td>\n",
       "    </tr>\n",
       "    <tr>\n",
       "      <th>std</th>\n",
       "      <td>21.547249</td>\n",
       "      <td>4.302924</td>\n",
       "      <td>25.198383</td>\n",
       "    </tr>\n",
       "    <tr>\n",
       "      <th>min</th>\n",
       "      <td>66.000000</td>\n",
       "      <td>4.000000</td>\n",
       "      <td>85.070000</td>\n",
       "    </tr>\n",
       "    <tr>\n",
       "      <th>25%</th>\n",
       "      <td>127.500000</td>\n",
       "      <td>14.000000</td>\n",
       "      <td>116.632500</td>\n",
       "    </tr>\n",
       "    <tr>\n",
       "      <th>50%</th>\n",
       "      <td>141.000000</td>\n",
       "      <td>16.000000</td>\n",
       "      <td>125.600000</td>\n",
       "    </tr>\n",
       "    <tr>\n",
       "      <th>75%</th>\n",
       "      <td>151.000000</td>\n",
       "      <td>19.000000</td>\n",
       "      <td>139.607500</td>\n",
       "    </tr>\n",
       "    <tr>\n",
       "      <th>max</th>\n",
       "      <td>201.000000</td>\n",
       "      <td>33.000000</td>\n",
       "      <td>245.450000</td>\n",
       "    </tr>\n",
       "  </tbody>\n",
       "</table>\n",
       "</div>"
      ],
      "text/plain": [
       "       BALLS FACED       FOURS  STRIKE RATE\n",
       "count   100.000000  100.000000   100.000000\n",
       "mean    138.170000   16.700000   131.685800\n",
       "std      21.547249    4.302924    25.198383\n",
       "min      66.000000    4.000000    85.070000\n",
       "25%     127.500000   14.000000   116.632500\n",
       "50%     141.000000   16.000000   125.600000\n",
       "75%     151.000000   19.000000   139.607500\n",
       "max     201.000000   33.000000   245.450000"
      ]
     },
     "execution_count": 27,
     "metadata": {},
     "output_type": "execute_result"
    }
   ],
   "source": [
    "df.describe()"
   ]
  },
  {
   "cell_type": "code",
   "execution_count": 28,
   "metadata": {},
   "outputs": [
    {
     "data": {
      "text/plain": [
       "np.int64(0)"
      ]
     },
     "execution_count": 28,
     "metadata": {},
     "output_type": "execute_result"
    }
   ],
   "source": [
    "df.duplicated().sum()"
   ]
  },
  {
   "cell_type": "code",
   "execution_count": 42,
   "metadata": {},
   "outputs": [
    {
     "data": {
      "text/plain": [
       "BALLS FACED    1.000000\n",
       "FOURS          0.250695\n",
       "STRIKE RATE   -0.833020\n",
       "Name: BALLS FACED, dtype: float64"
      ]
     },
     "execution_count": 42,
     "metadata": {},
     "output_type": "execute_result"
    }
   ],
   "source": [
    "df.corr(numeric_only=True)['BALLS FACED']"
   ]
  },
  {
   "cell_type": "code",
   "execution_count": 41,
   "metadata": {},
   "outputs": [
    {
     "data": {
      "text/plain": [
       "<Axes: xlabel='BATSMEN', ylabel='BALLS FACED'>"
      ]
     },
     "execution_count": 41,
     "metadata": {},
     "output_type": "execute_result"
    },
    {
     "data": {
      "image/png": "[encoded data removed]",
      "text/plain": [
       "<Figure size 640x480 with 1 Axes>"
      ]
     },
     "metadata": {},
     "output_type": "display_data"
    }
   ],
   "source": [
    "sns.barplot(x='BATSMEN',y='BALLS FACED',data=df)"
   ]
  },
  {
   "cell_type": "code",
   "execution_count": null,
   "metadata": {},
   "outputs": [],
   "source": []
  }
 ],
 "metadata": {
  "kernelspec": {
   "display_name": "Python 3",
   "language": "python",
   "name": "python3"
  },
  "language_info": {
   "codemirror_mode": {
    "name": "ipython",
    "version": 3
   },
   "file_extension": ".py",
   "mimetype": "text/x-python",
   "name": "python",
   "nbconvert_exporter": "python",
   "pygments_lexer": "ipython3",
   "version": "3.12.1"
  }
 },
 "nbformat": 4,
 "nbformat_minor": 2
}
